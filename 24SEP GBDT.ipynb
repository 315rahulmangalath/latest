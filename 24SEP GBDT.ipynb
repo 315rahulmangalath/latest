{
 "cells": [
  {
   "cell_type": "code",
   "execution_count": null,
   "id": "4fbd1454",
   "metadata": {},
   "outputs": [],
   "source": []
  },
  {
   "cell_type": "code",
   "execution_count": 108,
   "id": "b644c307",
   "metadata": {},
   "outputs": [],
   "source": [
    "import pandas as pd\n",
    "import matplotlib.pyplot as plt\n",
    "import seaborn as sns\n",
    "import numpy as np\n",
    "%matplotlib inline"
   ]
  },
  {
   "cell_type": "code",
   "execution_count": 109,
   "id": "a28ce52f",
   "metadata": {},
   "outputs": [
    {
     "data": {
      "text/html": [
       "<div>\n",
       "<style scoped>\n",
       "    .dataframe tbody tr th:only-of-type {\n",
       "        vertical-align: middle;\n",
       "    }\n",
       "\n",
       "    .dataframe tbody tr th {\n",
       "        vertical-align: top;\n",
       "    }\n",
       "\n",
       "    .dataframe thead th {\n",
       "        text-align: right;\n",
       "    }\n",
       "</style>\n",
       "<table border=\"1\" class=\"dataframe\">\n",
       "  <thead>\n",
       "    <tr style=\"text-align: right;\">\n",
       "      <th></th>\n",
       "      <th>Unnamed: 0</th>\n",
       "      <th>age</th>\n",
       "      <th>sex</th>\n",
       "      <th>cp</th>\n",
       "      <th>trestbps</th>\n",
       "      <th>chol</th>\n",
       "      <th>fbs</th>\n",
       "      <th>restecg</th>\n",
       "      <th>thalach</th>\n",
       "      <th>exang</th>\n",
       "      <th>oldpeak</th>\n",
       "      <th>slope</th>\n",
       "      <th>ca</th>\n",
       "      <th>thal</th>\n",
       "      <th>target</th>\n",
       "    </tr>\n",
       "  </thead>\n",
       "  <tbody>\n",
       "    <tr>\n",
       "      <th>0</th>\n",
       "      <td>0</td>\n",
       "      <td>63</td>\n",
       "      <td>1</td>\n",
       "      <td>3</td>\n",
       "      <td>145</td>\n",
       "      <td>233</td>\n",
       "      <td>1</td>\n",
       "      <td>0</td>\n",
       "      <td>150</td>\n",
       "      <td>0</td>\n",
       "      <td>2.3</td>\n",
       "      <td>0</td>\n",
       "      <td>0</td>\n",
       "      <td>1</td>\n",
       "      <td>1</td>\n",
       "    </tr>\n",
       "    <tr>\n",
       "      <th>1</th>\n",
       "      <td>1</td>\n",
       "      <td>37</td>\n",
       "      <td>1</td>\n",
       "      <td>2</td>\n",
       "      <td>130</td>\n",
       "      <td>250</td>\n",
       "      <td>0</td>\n",
       "      <td>1</td>\n",
       "      <td>187</td>\n",
       "      <td>0</td>\n",
       "      <td>3.5</td>\n",
       "      <td>0</td>\n",
       "      <td>0</td>\n",
       "      <td>2</td>\n",
       "      <td>1</td>\n",
       "    </tr>\n",
       "    <tr>\n",
       "      <th>2</th>\n",
       "      <td>2</td>\n",
       "      <td>41</td>\n",
       "      <td>0</td>\n",
       "      <td>1</td>\n",
       "      <td>130</td>\n",
       "      <td>204</td>\n",
       "      <td>0</td>\n",
       "      <td>0</td>\n",
       "      <td>172</td>\n",
       "      <td>0</td>\n",
       "      <td>1.4</td>\n",
       "      <td>2</td>\n",
       "      <td>0</td>\n",
       "      <td>2</td>\n",
       "      <td>1</td>\n",
       "    </tr>\n",
       "    <tr>\n",
       "      <th>3</th>\n",
       "      <td>3</td>\n",
       "      <td>56</td>\n",
       "      <td>1</td>\n",
       "      <td>1</td>\n",
       "      <td>120</td>\n",
       "      <td>236</td>\n",
       "      <td>0</td>\n",
       "      <td>1</td>\n",
       "      <td>178</td>\n",
       "      <td>0</td>\n",
       "      <td>0.8</td>\n",
       "      <td>2</td>\n",
       "      <td>0</td>\n",
       "      <td>2</td>\n",
       "      <td>1</td>\n",
       "    </tr>\n",
       "    <tr>\n",
       "      <th>4</th>\n",
       "      <td>4</td>\n",
       "      <td>57</td>\n",
       "      <td>0</td>\n",
       "      <td>0</td>\n",
       "      <td>120</td>\n",
       "      <td>354</td>\n",
       "      <td>0</td>\n",
       "      <td>1</td>\n",
       "      <td>163</td>\n",
       "      <td>1</td>\n",
       "      <td>0.6</td>\n",
       "      <td>2</td>\n",
       "      <td>0</td>\n",
       "      <td>2</td>\n",
       "      <td>1</td>\n",
       "    </tr>\n",
       "  </tbody>\n",
       "</table>\n",
       "</div>"
      ],
      "text/plain": [
       "   Unnamed: 0  age  sex  cp  trestbps  chol  fbs  restecg  thalach  exang  \\\n",
       "0           0   63    1   3       145   233    1        0      150      0   \n",
       "1           1   37    1   2       130   250    0        1      187      0   \n",
       "2           2   41    0   1       130   204    0        0      172      0   \n",
       "3           3   56    1   1       120   236    0        1      178      0   \n",
       "4           4   57    0   0       120   354    0        1      163      1   \n",
       "\n",
       "   oldpeak  slope  ca  thal  target  \n",
       "0      2.3      0   0     1       1  \n",
       "1      3.5      0   0     2       1  \n",
       "2      1.4      2   0     2       1  \n",
       "3      0.8      2   0     2       1  \n",
       "4      0.6      2   0     2       1  "
      ]
     },
     "execution_count": 109,
     "metadata": {},
     "output_type": "execute_result"
    }
   ],
   "source": [
    "df = pd.read_csv(\"https://raw.githubusercontent.com/training-ml/Files/main/heart_disease.csv\")\n",
    "df.head()"
   ]
  },
  {
   "cell_type": "code",
   "execution_count": 110,
   "id": "fe30c524",
   "metadata": {},
   "outputs": [
    {
     "data": {
      "text/html": [
       "<div>\n",
       "<style scoped>\n",
       "    .dataframe tbody tr th:only-of-type {\n",
       "        vertical-align: middle;\n",
       "    }\n",
       "\n",
       "    .dataframe tbody tr th {\n",
       "        vertical-align: top;\n",
       "    }\n",
       "\n",
       "    .dataframe thead th {\n",
       "        text-align: right;\n",
       "    }\n",
       "</style>\n",
       "<table border=\"1\" class=\"dataframe\">\n",
       "  <thead>\n",
       "    <tr style=\"text-align: right;\">\n",
       "      <th></th>\n",
       "      <th>age</th>\n",
       "      <th>sex</th>\n",
       "      <th>cp</th>\n",
       "      <th>trestbps</th>\n",
       "      <th>chol</th>\n",
       "      <th>fbs</th>\n",
       "      <th>restecg</th>\n",
       "      <th>thalach</th>\n",
       "      <th>exang</th>\n",
       "      <th>oldpeak</th>\n",
       "      <th>slope</th>\n",
       "      <th>ca</th>\n",
       "      <th>thal</th>\n",
       "      <th>target</th>\n",
       "    </tr>\n",
       "  </thead>\n",
       "  <tbody>\n",
       "    <tr>\n",
       "      <th>count</th>\n",
       "      <td>303.000000</td>\n",
       "      <td>303.000000</td>\n",
       "      <td>303.000000</td>\n",
       "      <td>303.000000</td>\n",
       "      <td>303.000000</td>\n",
       "      <td>303.000000</td>\n",
       "      <td>303.000000</td>\n",
       "      <td>303.000000</td>\n",
       "      <td>303.000000</td>\n",
       "      <td>303.000000</td>\n",
       "      <td>303.000000</td>\n",
       "      <td>303.000000</td>\n",
       "      <td>303.000000</td>\n",
       "      <td>303.000000</td>\n",
       "    </tr>\n",
       "    <tr>\n",
       "      <th>mean</th>\n",
       "      <td>54.366337</td>\n",
       "      <td>0.683168</td>\n",
       "      <td>0.966997</td>\n",
       "      <td>131.623762</td>\n",
       "      <td>246.264026</td>\n",
       "      <td>0.148515</td>\n",
       "      <td>0.528053</td>\n",
       "      <td>149.646865</td>\n",
       "      <td>0.326733</td>\n",
       "      <td>1.039604</td>\n",
       "      <td>1.399340</td>\n",
       "      <td>0.729373</td>\n",
       "      <td>2.313531</td>\n",
       "      <td>0.544554</td>\n",
       "    </tr>\n",
       "    <tr>\n",
       "      <th>std</th>\n",
       "      <td>9.082101</td>\n",
       "      <td>0.466011</td>\n",
       "      <td>1.032052</td>\n",
       "      <td>17.538143</td>\n",
       "      <td>51.830751</td>\n",
       "      <td>0.356198</td>\n",
       "      <td>0.525860</td>\n",
       "      <td>22.905161</td>\n",
       "      <td>0.469794</td>\n",
       "      <td>1.161075</td>\n",
       "      <td>0.616226</td>\n",
       "      <td>1.022606</td>\n",
       "      <td>0.612277</td>\n",
       "      <td>0.498835</td>\n",
       "    </tr>\n",
       "    <tr>\n",
       "      <th>min</th>\n",
       "      <td>29.000000</td>\n",
       "      <td>0.000000</td>\n",
       "      <td>0.000000</td>\n",
       "      <td>94.000000</td>\n",
       "      <td>126.000000</td>\n",
       "      <td>0.000000</td>\n",
       "      <td>0.000000</td>\n",
       "      <td>71.000000</td>\n",
       "      <td>0.000000</td>\n",
       "      <td>0.000000</td>\n",
       "      <td>0.000000</td>\n",
       "      <td>0.000000</td>\n",
       "      <td>0.000000</td>\n",
       "      <td>0.000000</td>\n",
       "    </tr>\n",
       "    <tr>\n",
       "      <th>25%</th>\n",
       "      <td>47.500000</td>\n",
       "      <td>0.000000</td>\n",
       "      <td>0.000000</td>\n",
       "      <td>120.000000</td>\n",
       "      <td>211.000000</td>\n",
       "      <td>0.000000</td>\n",
       "      <td>0.000000</td>\n",
       "      <td>133.500000</td>\n",
       "      <td>0.000000</td>\n",
       "      <td>0.000000</td>\n",
       "      <td>1.000000</td>\n",
       "      <td>0.000000</td>\n",
       "      <td>2.000000</td>\n",
       "      <td>0.000000</td>\n",
       "    </tr>\n",
       "    <tr>\n",
       "      <th>50%</th>\n",
       "      <td>55.000000</td>\n",
       "      <td>1.000000</td>\n",
       "      <td>1.000000</td>\n",
       "      <td>130.000000</td>\n",
       "      <td>240.000000</td>\n",
       "      <td>0.000000</td>\n",
       "      <td>1.000000</td>\n",
       "      <td>153.000000</td>\n",
       "      <td>0.000000</td>\n",
       "      <td>0.800000</td>\n",
       "      <td>1.000000</td>\n",
       "      <td>0.000000</td>\n",
       "      <td>2.000000</td>\n",
       "      <td>1.000000</td>\n",
       "    </tr>\n",
       "    <tr>\n",
       "      <th>75%</th>\n",
       "      <td>61.000000</td>\n",
       "      <td>1.000000</td>\n",
       "      <td>2.000000</td>\n",
       "      <td>140.000000</td>\n",
       "      <td>274.500000</td>\n",
       "      <td>0.000000</td>\n",
       "      <td>1.000000</td>\n",
       "      <td>166.000000</td>\n",
       "      <td>1.000000</td>\n",
       "      <td>1.600000</td>\n",
       "      <td>2.000000</td>\n",
       "      <td>1.000000</td>\n",
       "      <td>3.000000</td>\n",
       "      <td>1.000000</td>\n",
       "    </tr>\n",
       "    <tr>\n",
       "      <th>max</th>\n",
       "      <td>77.000000</td>\n",
       "      <td>1.000000</td>\n",
       "      <td>3.000000</td>\n",
       "      <td>200.000000</td>\n",
       "      <td>564.000000</td>\n",
       "      <td>1.000000</td>\n",
       "      <td>2.000000</td>\n",
       "      <td>202.000000</td>\n",
       "      <td>1.000000</td>\n",
       "      <td>6.200000</td>\n",
       "      <td>2.000000</td>\n",
       "      <td>4.000000</td>\n",
       "      <td>3.000000</td>\n",
       "      <td>1.000000</td>\n",
       "    </tr>\n",
       "  </tbody>\n",
       "</table>\n",
       "</div>"
      ],
      "text/plain": [
       "              age         sex          cp    trestbps        chol         fbs  \\\n",
       "count  303.000000  303.000000  303.000000  303.000000  303.000000  303.000000   \n",
       "mean    54.366337    0.683168    0.966997  131.623762  246.264026    0.148515   \n",
       "std      9.082101    0.466011    1.032052   17.538143   51.830751    0.356198   \n",
       "min     29.000000    0.000000    0.000000   94.000000  126.000000    0.000000   \n",
       "25%     47.500000    0.000000    0.000000  120.000000  211.000000    0.000000   \n",
       "50%     55.000000    1.000000    1.000000  130.000000  240.000000    0.000000   \n",
       "75%     61.000000    1.000000    2.000000  140.000000  274.500000    0.000000   \n",
       "max     77.000000    1.000000    3.000000  200.000000  564.000000    1.000000   \n",
       "\n",
       "          restecg     thalach       exang     oldpeak       slope          ca  \\\n",
       "count  303.000000  303.000000  303.000000  303.000000  303.000000  303.000000   \n",
       "mean     0.528053  149.646865    0.326733    1.039604    1.399340    0.729373   \n",
       "std      0.525860   22.905161    0.469794    1.161075    0.616226    1.022606   \n",
       "min      0.000000   71.000000    0.000000    0.000000    0.000000    0.000000   \n",
       "25%      0.000000  133.500000    0.000000    0.000000    1.000000    0.000000   \n",
       "50%      1.000000  153.000000    0.000000    0.800000    1.000000    0.000000   \n",
       "75%      1.000000  166.000000    1.000000    1.600000    2.000000    1.000000   \n",
       "max      2.000000  202.000000    1.000000    6.200000    2.000000    4.000000   \n",
       "\n",
       "             thal      target  \n",
       "count  303.000000  303.000000  \n",
       "mean     2.313531    0.544554  \n",
       "std      0.612277    0.498835  \n",
       "min      0.000000    0.000000  \n",
       "25%      2.000000    0.000000  \n",
       "50%      2.000000    1.000000  \n",
       "75%      3.000000    1.000000  \n",
       "max      3.000000    1.000000  "
      ]
     },
     "execution_count": 110,
     "metadata": {},
     "output_type": "execute_result"
    }
   ],
   "source": [
    "df.drop('Unnamed: 0' ,axis =1,inplace = True )\n",
    "df.describe()"
   ]
  },
  {
   "cell_type": "code",
   "execution_count": 111,
   "id": "81044ead",
   "metadata": {},
   "outputs": [
    {
     "data": {
      "text/plain": [
       "age         0\n",
       "sex         0\n",
       "cp          0\n",
       "trestbps    0\n",
       "chol        0\n",
       "fbs         0\n",
       "restecg     0\n",
       "thalach     0\n",
       "exang       0\n",
       "oldpeak     0\n",
       "slope       0\n",
       "ca          0\n",
       "thal        0\n",
       "target      0\n",
       "dtype: int64"
      ]
     },
     "execution_count": 111,
     "metadata": {},
     "output_type": "execute_result"
    }
   ],
   "source": [
    "df.isna().sum()"
   ]
  },
  {
   "cell_type": "code",
   "execution_count": 112,
   "id": "d310bfdc",
   "metadata": {},
   "outputs": [
    {
     "data": {
      "text/plain": [
       "age        -0.225439\n",
       "sex        -0.280937\n",
       "cp          0.433798\n",
       "trestbps   -0.144931\n",
       "chol       -0.085239\n",
       "fbs        -0.028046\n",
       "restecg     0.137230\n",
       "thalach     0.421741\n",
       "exang      -0.436757\n",
       "oldpeak    -0.430696\n",
       "slope       0.345877\n",
       "ca         -0.391724\n",
       "thal       -0.344029\n",
       "dtype: float64"
      ]
     },
     "execution_count": 112,
     "metadata": {},
     "output_type": "execute_result"
    }
   ],
   "source": [
    "df.drop('target',axis=1).corrwith(df.target)\n"
   ]
  },
  {
   "cell_type": "code",
   "execution_count": 113,
   "id": "ea852279",
   "metadata": {},
   "outputs": [],
   "source": [
    "#features correlation with label"
   ]
  },
  {
   "cell_type": "markdown",
   "id": "158ed893",
   "metadata": {},
   "source": [
    "# visualize the correlation"
   ]
  },
  {
   "cell_type": "code",
   "execution_count": 114,
   "id": "a35b769f",
   "metadata": {},
   "outputs": [
    {
     "data": {
      "image/png": "[encoded data removed]",
      "text/plain": [
       "<Figure size 720x504 with 1 Axes>"
      ]
     },
     "metadata": {
      "needs_background": "light"
     },
     "output_type": "display_data"
    }
   ],
   "source": [
    "df.drop('target',axis=1).corrwith(df.target).plot(kind='bar',\n",
    "            grid=True, figsize=(10,7),title=\"corrrelation with target\")\n",
    "\n",
    "plt.show()\n"
   ]
  },
  {
   "cell_type": "code",
   "execution_count": 115,
   "id": "8876c264",
   "metadata": {},
   "outputs": [],
   "source": [
    "##Model building usong SelectPercentile features"
   ]
  },
  {
   "cell_type": "code",
   "execution_count": 116,
   "id": "42cc634b",
   "metadata": {},
   "outputs": [],
   "source": [
    "from sklearn.feature_selection import SelectPercentile,chi2\n",
    "\n",
    "#when we apply chi2 we get palues for all features.Based on p-values it will select 80% of features\n",
    "\n",
    "#Eg: if pvalues<0.05 it will reject null hypothesis.Default null hypothesis is,there is no relation b/w feature and label\n"
   ]
  },
  {
   "cell_type": "code",
   "execution_count": 117,
   "id": "1235d1bc",
   "metadata": {},
   "outputs": [],
   "source": [
    "#instantiate SelectPercentile and fit\n"
   ]
  },
  {
   "cell_type": "code",
   "execution_count": 118,
   "id": "d4a82eb7",
   "metadata": {},
   "outputs": [],
   "source": [
    "X=df.drop(['target'],axis=1)\n",
    "y= df.target"
   ]
  },
  {
   "cell_type": "code",
   "execution_count": 119,
   "id": "daff1574",
   "metadata": {},
   "outputs": [],
   "source": [
    "SPercentile = SelectPercentile(score_func=chi2,percentile=80)  #65,70,...85 CAN BE TRIED"
   ]
  },
  {
   "cell_type": "code",
   "execution_count": 120,
   "id": "9c87d7d8",
   "metadata": {},
   "outputs": [],
   "source": [
    "SPercentile = SPercentile.fit(X,y)"
   ]
  },
  {
   "cell_type": "code",
   "execution_count": 121,
   "id": "79d254e1",
   "metadata": {},
   "outputs": [
    {
     "name": "stdout",
     "output_type": "stream",
     "text": [
      "Feature index =  [ 0  1  2  3  4  7  8  9 10 11]\n"
     ]
    }
   ],
   "source": [
    "#seperate the features to check p values\n",
    "col_nos =  SPercentile.get_support(indices =True) \n",
    "print('Feature index = ',col_nos )\n"
   ]
  },
  {
   "cell_type": "code",
   "execution_count": 122,
   "id": "1a3b6b4d",
   "metadata": {},
   "outputs": [
    {
     "name": "stdout",
     "output_type": "stream",
     "text": [
      "features= Index(['age', 'sex', 'cp', 'trestbps', 'chol', 'thalach', 'exang', 'oldpeak',\n",
      "       'slope', 'ca'],\n",
      "      dtype='object')\n"
     ]
    }
   ],
   "source": [
    "features=X.columns[col_nos]\n",
    "print('features=',features)\n"
   ]
  },
  {
   "cell_type": "code",
   "execution_count": 123,
   "id": "ef187cdb",
   "metadata": {},
   "outputs": [
    {
     "name": "stdout",
     "output_type": "stream",
     "text": [
      "features= ['age', 'sex', 'cp', 'trestbps', 'chol', 'thalach', 'exang', 'oldpeak', 'slope', 'ca']\n"
     ]
    }
   ],
   "source": [
    "features=X.columns[col_nos]\n",
    "print('features=',list(features))\n"
   ]
  },
  {
   "cell_type": "code",
   "execution_count": 124,
   "id": "c54f2966",
   "metadata": {},
   "outputs": [],
   "source": [
    "df_scores = pd.DataFrame({'feature':X.columns, 'chi2Score': SPercentile.scores_  , \n",
    "                            'value' : SPercentile.pvalues_})\n"
   ]
  },
  {
   "cell_type": "code",
   "execution_count": 125,
   "id": "ea95f1a0",
   "metadata": {},
   "outputs": [
    {
     "data": {
      "text/html": [
       "<div>\n",
       "<style scoped>\n",
       "    .dataframe tbody tr th:only-of-type {\n",
       "        vertical-align: middle;\n",
       "    }\n",
       "\n",
       "    .dataframe tbody tr th {\n",
       "        vertical-align: top;\n",
       "    }\n",
       "\n",
       "    .dataframe thead th {\n",
       "        text-align: right;\n",
       "    }\n",
       "</style>\n",
       "<table border=\"1\" class=\"dataframe\">\n",
       "  <thead>\n",
       "    <tr style=\"text-align: right;\">\n",
       "      <th></th>\n",
       "      <th>feature</th>\n",
       "      <th>chi2Score</th>\n",
       "      <th>value</th>\n",
       "    </tr>\n",
       "  </thead>\n",
       "  <tbody>\n",
       "    <tr>\n",
       "      <th>7</th>\n",
       "      <td>thalach</td>\n",
       "      <td>188.320472</td>\n",
       "      <td>7.395102e-43</td>\n",
       "    </tr>\n",
       "    <tr>\n",
       "      <th>9</th>\n",
       "      <td>oldpeak</td>\n",
       "      <td>72.644253</td>\n",
       "      <td>1.552583e-17</td>\n",
       "    </tr>\n",
       "    <tr>\n",
       "      <th>11</th>\n",
       "      <td>ca</td>\n",
       "      <td>66.440765</td>\n",
       "      <td>3.605677e-16</td>\n",
       "    </tr>\n",
       "    <tr>\n",
       "      <th>2</th>\n",
       "      <td>cp</td>\n",
       "      <td>62.598098</td>\n",
       "      <td>2.534982e-15</td>\n",
       "    </tr>\n",
       "    <tr>\n",
       "      <th>8</th>\n",
       "      <td>exang</td>\n",
       "      <td>38.914377</td>\n",
       "      <td>4.428074e-10</td>\n",
       "    </tr>\n",
       "    <tr>\n",
       "      <th>4</th>\n",
       "      <td>chol</td>\n",
       "      <td>23.936394</td>\n",
       "      <td>9.957148e-07</td>\n",
       "    </tr>\n",
       "    <tr>\n",
       "      <th>0</th>\n",
       "      <td>age</td>\n",
       "      <td>23.286624</td>\n",
       "      <td>1.395673e-06</td>\n",
       "    </tr>\n",
       "    <tr>\n",
       "      <th>3</th>\n",
       "      <td>trestbps</td>\n",
       "      <td>14.823925</td>\n",
       "      <td>1.180286e-04</td>\n",
       "    </tr>\n",
       "    <tr>\n",
       "      <th>10</th>\n",
       "      <td>slope</td>\n",
       "      <td>9.804095</td>\n",
       "      <td>1.741237e-03</td>\n",
       "    </tr>\n",
       "    <tr>\n",
       "      <th>1</th>\n",
       "      <td>sex</td>\n",
       "      <td>7.576835</td>\n",
       "      <td>5.912318e-03</td>\n",
       "    </tr>\n",
       "    <tr>\n",
       "      <th>12</th>\n",
       "      <td>thal</td>\n",
       "      <td>5.791853</td>\n",
       "      <td>1.610061e-02</td>\n",
       "    </tr>\n",
       "    <tr>\n",
       "      <th>6</th>\n",
       "      <td>restecg</td>\n",
       "      <td>2.978271</td>\n",
       "      <td>8.438939e-02</td>\n",
       "    </tr>\n",
       "    <tr>\n",
       "      <th>5</th>\n",
       "      <td>fbs</td>\n",
       "      <td>0.202934</td>\n",
       "      <td>6.523632e-01</td>\n",
       "    </tr>\n",
       "  </tbody>\n",
       "</table>\n",
       "</div>"
      ],
      "text/plain": [
       "     feature   chi2Score         value\n",
       "7    thalach  188.320472  7.395102e-43\n",
       "9    oldpeak   72.644253  1.552583e-17\n",
       "11        ca   66.440765  3.605677e-16\n",
       "2         cp   62.598098  2.534982e-15\n",
       "8      exang   38.914377  4.428074e-10\n",
       "4       chol   23.936394  9.957148e-07\n",
       "0        age   23.286624  1.395673e-06\n",
       "3   trestbps   14.823925  1.180286e-04\n",
       "10     slope    9.804095  1.741237e-03\n",
       "1        sex    7.576835  5.912318e-03\n",
       "12      thal    5.791853  1.610061e-02\n",
       "6    restecg    2.978271  8.438939e-02\n",
       "5        fbs    0.202934  6.523632e-01"
      ]
     },
     "execution_count": 125,
     "metadata": {},
     "output_type": "execute_result"
    }
   ],
   "source": [
    "df_scores.sort_values(by='chi2Score',ascending=False)"
   ]
  },
  {
   "cell_type": "code",
   "execution_count": 126,
   "id": "e6e3514e",
   "metadata": {},
   "outputs": [],
   "source": [
    "#create subset to select updated features\n",
    "\n",
    "X= df[features]\n",
    "\n",
    "y= df.target"
   ]
  },
  {
   "cell_type": "code",
   "execution_count": 127,
   "id": "def8c084",
   "metadata": {},
   "outputs": [],
   "source": [
    "#import library \n",
    "\n",
    "\n",
    "from sklearn.model_selection import train_test_split\n",
    "from sklearn.preprocessing  import StandardScaler"
   ]
  },
  {
   "cell_type": "code",
   "execution_count": 128,
   "id": "0cb5c1d7",
   "metadata": {},
   "outputs": [],
   "source": [
    "scaler = StandardScaler()\n",
    "X_scaler = scaler.fit_transform(X)"
   ]
  },
  {
   "cell_type": "code",
   "execution_count": 129,
   "id": "5c800c99",
   "metadata": {},
   "outputs": [
    {
     "data": {
      "text/plain": [
       "array([[ 0.9521966 ,  0.68100522,  1.97312292, ...,  1.08733806,\n",
       "        -2.27457861, -0.71442887],\n",
       "       [-1.91531289,  0.68100522,  1.00257707, ...,  2.12257273,\n",
       "        -2.27457861, -0.71442887],\n",
       "       [-1.47415758, -1.46841752,  0.03203122, ...,  0.31091206,\n",
       "         0.97635214, -0.71442887],\n",
       "       ...,\n",
       "       [ 1.50364073,  0.68100522, -0.93851463, ...,  2.03630317,\n",
       "        -0.64911323,  1.24459328],\n",
       "       [ 0.29046364,  0.68100522, -0.93851463, ...,  0.13837295,\n",
       "        -0.64911323,  0.26508221],\n",
       "       [ 0.29046364, -1.46841752,  0.03203122, ..., -0.89686172,\n",
       "        -0.64911323,  0.26508221]])"
      ]
     },
     "execution_count": 129,
     "metadata": {},
     "output_type": "execute_result"
    }
   ],
   "source": [
    "X_scaler"
   ]
  },
  {
   "cell_type": "code",
   "execution_count": 130,
   "id": "8d10fb9f",
   "metadata": {},
   "outputs": [],
   "source": [
    "x_train,x_test,y_train,y_test = train_test_split(X_scaler,y,test_size=0.3, random_state =42)\n"
   ]
  },
  {
   "cell_type": "markdown",
   "id": "c686f96c",
   "metadata": {},
   "source": [
    "# GrandientBoostingClassifier"
   ]
  },
  {
   "cell_type": "code",
   "execution_count": 131,
   "id": "a85ab76b",
   "metadata": {},
   "outputs": [],
   "source": [
    "from sklearn.ensemble import GradientBoostingClassifier "
   ]
  },
  {
   "cell_type": "code",
   "execution_count": 132,
   "id": "2f553d12",
   "metadata": {},
   "outputs": [],
   "source": [
    "from sklearn.metrics import classification_report,accuracy_score"
   ]
  },
  {
   "cell_type": "code",
   "execution_count": 133,
   "id": "5555a929",
   "metadata": {},
   "outputs": [],
   "source": [
    "def metric_score (clf,x_train,x_test,y_train,y_test,train=True):\n",
    "    if train:\n",
    "        y_pred = clf.predict(x_train)\t\n",
    "        print('accuracy score: {accuracy_score(y_train,y_pred) *100:.2f}%')\n",
    "        print('accuracy score:',round(accuracy_score(y_train,y_pred)*100,2))\n",
    "    elif train==False :\n",
    "        pred = clf.predict(x_test)\n",
    "        print(\"accuracy score: {accuracy_score(y_test,pred) *100:.2}%\")\n",
    "        print('accuracy score:',round(accuracy_score(y_test,pred) *100,2))\n",
    "        print('\\n\\n Classification Report \\n' ,classification_report(y_test,pred,digits=2))\n",
    "        \n"
   ]
  },
  {
   "cell_type": "code",
   "execution_count": 134,
   "id": "dd557a13",
   "metadata": {},
   "outputs": [
    {
     "data": {
      "text/plain": [
       "GradientBoostingClassifier()"
      ]
     },
     "execution_count": 134,
     "metadata": {},
     "output_type": "execute_result"
    }
   ],
   "source": [
    "#initiate GradientBoostingClassifier\n",
    "\n",
    "gbdt_clf= GradientBoostingClassifier()\n",
    "\n",
    "gbdt_clf.fit(x_train,y_train)\n"
   ]
  },
  {
   "cell_type": "code",
   "execution_count": 135,
   "id": "c5062c33",
   "metadata": {},
   "outputs": [
    {
     "name": "stdout",
     "output_type": "stream",
     "text": [
      "accuracy score: {accuracy_score(y_train,y_pred) *100:.2f}%\n",
      "accuracy score: 100.0\n",
      "accuracy score: {accuracy_score(y_test,pred) *100:.2}%\n",
      "accuracy score: 83.52\n",
      "\n",
      "\n",
      " Classification Report \n",
      "               precision    recall  f1-score   support\n",
      "\n",
      "           0       0.81      0.83      0.82        41\n",
      "           1       0.86      0.84      0.85        50\n",
      "\n",
      "    accuracy                           0.84        91\n",
      "   macro avg       0.83      0.83      0.83        91\n",
      "weighted avg       0.84      0.84      0.84        91\n",
      "\n"
     ]
    }
   ],
   "source": [
    "#calling the fn\n",
    "metric_score(gbdt_clf,x_train,x_test,y_train,y_test,train=True)\n",
    "metric_score(gbdt_clf,x_train,x_test,y_train,y_test,train=False)\n"
   ]
  },
  {
   "cell_type": "code",
   "execution_count": 136,
   "id": "49af798b",
   "metadata": {},
   "outputs": [],
   "source": [
    "#lets try if we can improve the performance our model using paraeter tuning\n",
    "from sklearn.model_selection import GridSearchCV\n",
    "grid_param = {\n",
    "            'max_depth': range(4,8),\n",
    "            'min_samples_split' : range(2,10,2) ,\n",
    "            'learning_rate' : np.arange(0.1,0.4)\n",
    "            }\n"
   ]
  },
  {
   "cell_type": "code",
   "execution_count": 137,
   "id": "c2ea377c",
   "metadata": {},
   "outputs": [],
   "source": [
    "grid = GridSearchCV(GradientBoostingClassifier(),param_grid = grid_param)\n"
   ]
  },
  {
   "cell_type": "code",
   "execution_count": 138,
   "id": "081ea6f7",
   "metadata": {},
   "outputs": [
    {
     "data": {
      "text/plain": [
       "GridSearchCV(estimator=GradientBoostingClassifier(),\n",
       "             param_grid={'learning_rate': array([0.1]),\n",
       "                         'max_depth': range(4, 8),\n",
       "                         'min_samples_split': range(2, 10, 2)})"
      ]
     },
     "execution_count": 138,
     "metadata": {},
     "output_type": "execute_result"
    }
   ],
   "source": [
    "grid.fit(x_train,y_train)"
   ]
  },
  {
   "cell_type": "code",
   "execution_count": null,
   "id": "77fc8d96",
   "metadata": {},
   "outputs": [],
   "source": []
  },
  {
   "cell_type": "code",
   "execution_count": 139,
   "id": "4bf9a4a5",
   "metadata": {},
   "outputs": [
    {
     "name": "stdout",
     "output_type": "stream",
     "text": [
      "accuracy score: {accuracy_score(y_train,y_pred) *100:.2f}%\n",
      "accuracy score: 100.0\n",
      "accuracy score: {accuracy_score(y_test,pred) *100:.2}%\n",
      "accuracy score: 83.52\n",
      "\n",
      "\n",
      " Classification Report \n",
      "               precision    recall  f1-score   support\n",
      "\n",
      "           0       0.81      0.83      0.82        41\n",
      "           1       0.86      0.84      0.85        50\n",
      "\n",
      "    accuracy                           0.84        91\n",
      "   macro avg       0.83      0.83      0.83        91\n",
      "weighted avg       0.84      0.84      0.84        91\n",
      "\n"
     ]
    }
   ],
   "source": [
    "#calling the fn\n",
    "metric_score(gbdt_clf,x_train,x_test,y_train,y_test,train=True)\n",
    "metric_score(gbdt_clf,x_train,x_test,y_train,y_test,train=False)\n"
   ]
  },
  {
   "cell_type": "code",
   "execution_count": 140,
   "id": "559c682b",
   "metadata": {},
   "outputs": [],
   "source": [
    "#we can increase the performance with diff range \n",
    "\n",
    "##XGboost  @50 min makenotes"
   ]
  },
  {
   "cell_type": "code",
   "execution_count": null,
   "id": "af434ee7",
   "metadata": {},
   "outputs": [],
   "source": []
  },
  {
   "cell_type": "markdown",
   "id": "1ed5eccc",
   "metadata": {},
   "source": [
    "# VEHICLE data"
   ]
  },
  {
   "cell_type": "code",
   "execution_count": 189,
   "id": "c6981d91",
   "metadata": {},
   "outputs": [],
   "source": [
    "#1hr6min\n",
    "\n",
    "\n",
    "import numpy as np\n",
    "import pandas as pd\n",
    "import matplotlib.pyplot as plt\n",
    "%matplotlib inline"
   ]
  },
  {
   "cell_type": "code",
   "execution_count": 190,
   "id": "ab195337",
   "metadata": {},
   "outputs": [
    {
     "name": "stdout",
     "output_type": "stream",
     "text": [
      "Requirement already satisfied: xgboost in c:\\users\\315ra\\anaconda3\\lib\\site-packages (1.6.2)\n",
      "Requirement already satisfied: numpy in c:\\users\\315ra\\anaconda3\\lib\\site-packages (from xgboost) (1.21.5)\n",
      "Requirement already satisfied: scipy in c:\\users\\315ra\\anaconda3\\lib\\site-packages (from xgboost) (1.7.3)\n"
     ]
    }
   ],
   "source": [
    "#preprocessing\n",
    "from sklearn.metrics import r2_score,mean_squared_error\n",
    "! python -m pip install xgboost"
   ]
  },
  {
   "cell_type": "code",
   "execution_count": 191,
   "id": "991f20de",
   "metadata": {},
   "outputs": [],
   "source": [
    "#mertrics and models\n",
    "from sklearn.model_selection import train_test_split,GridSearchCV\n",
    "import xgboost as xgb\n",
    "\n",
    "import warnings\n",
    "warnings.filterwarnings('ignore')"
   ]
  },
  {
   "cell_type": "code",
   "execution_count": 192,
   "id": "e60c3690",
   "metadata": {},
   "outputs": [],
   "source": [
    "df = pd.read_csv(r'C:\\Users\\315ra\\OneDrive\\Desktop\\notes\\notes-main\\vehicles_data_students.csv')"
   ]
  },
  {
   "cell_type": "code",
   "execution_count": 193,
   "id": "30911844",
   "metadata": {},
   "outputs": [
    {
     "data": {
      "text/html": [
       "<div>\n",
       "<style scoped>\n",
       "    .dataframe tbody tr th:only-of-type {\n",
       "        vertical-align: middle;\n",
       "    }\n",
       "\n",
       "    .dataframe tbody tr th {\n",
       "        vertical-align: top;\n",
       "    }\n",
       "\n",
       "    .dataframe thead th {\n",
       "        text-align: right;\n",
       "    }\n",
       "</style>\n",
       "<table border=\"1\" class=\"dataframe\">\n",
       "  <thead>\n",
       "    <tr style=\"text-align: right;\">\n",
       "      <th></th>\n",
       "      <th>Unnamed: 0</th>\n",
       "      <th>id</th>\n",
       "      <th>price</th>\n",
       "      <th>year</th>\n",
       "      <th>manufacturer</th>\n",
       "      <th>model</th>\n",
       "      <th>condition</th>\n",
       "      <th>cylinders</th>\n",
       "      <th>fuel</th>\n",
       "      <th>odometer</th>\n",
       "      <th>title_status</th>\n",
       "      <th>transmission</th>\n",
       "      <th>drive</th>\n",
       "      <th>size</th>\n",
       "      <th>type</th>\n",
       "      <th>paint_color</th>\n",
       "      <th>county</th>\n",
       "      <th>state</th>\n",
       "      <th>lat</th>\n",
       "      <th>long</th>\n",
       "    </tr>\n",
       "  </thead>\n",
       "  <tbody>\n",
       "    <tr>\n",
       "      <th>0</th>\n",
       "      <td>55483</td>\n",
       "      <td>7315914053</td>\n",
       "      <td>0</td>\n",
       "      <td>2018.0</td>\n",
       "      <td>ram</td>\n",
       "      <td>promaster 2500</td>\n",
       "      <td>excellent</td>\n",
       "      <td>NaN</td>\n",
       "      <td>gas</td>\n",
       "      <td>44244.0</td>\n",
       "      <td>clean</td>\n",
       "      <td>automatic</td>\n",
       "      <td>NaN</td>\n",
       "      <td>NaN</td>\n",
       "      <td>van</td>\n",
       "      <td>NaN</td>\n",
       "      <td>NaN</td>\n",
       "      <td>ca</td>\n",
       "      <td>32.7928</td>\n",
       "      <td>-116.9665</td>\n",
       "    </tr>\n",
       "  </tbody>\n",
       "</table>\n",
       "</div>"
      ],
      "text/plain": [
       "   Unnamed: 0          id  price    year manufacturer           model  \\\n",
       "0       55483  7315914053      0  2018.0          ram  promaster 2500   \n",
       "\n",
       "   condition cylinders fuel  odometer title_status transmission drive size  \\\n",
       "0  excellent       NaN  gas   44244.0        clean    automatic   NaN  NaN   \n",
       "\n",
       "  type paint_color  county state      lat      long  \n",
       "0  van         NaN     NaN    ca  32.7928 -116.9665  "
      ]
     },
     "execution_count": 193,
     "metadata": {},
     "output_type": "execute_result"
    }
   ],
   "source": [
    "df.head(1)"
   ]
  },
  {
   "cell_type": "code",
   "execution_count": 194,
   "id": "9493233d",
   "metadata": {},
   "outputs": [
    {
     "data": {
      "text/plain": [
       "(64032, 20)"
      ]
     },
     "execution_count": 194,
     "metadata": {},
     "output_type": "execute_result"
    }
   ],
   "source": [
    "df.shape"
   ]
  },
  {
   "cell_type": "code",
   "execution_count": 195,
   "id": "bf1562df",
   "metadata": {},
   "outputs": [
    {
     "data": {
      "text/plain": [
       "(64032, 13)"
      ]
     },
     "execution_count": 195,
     "metadata": {},
     "output_type": "execute_result"
    }
   ],
   "source": [
    "drop_columns =['Unnamed: 0','id','size','lat','long','county','type']\n",
    "df = df.drop(columns = drop_columns,axis =1)\n",
    "\n",
    "df.shape"
   ]
  },
  {
   "cell_type": "code",
   "execution_count": 196,
   "id": "1d30badf",
   "metadata": {},
   "outputs": [
    {
     "data": {
      "text/html": [
       "<div>\n",
       "<style scoped>\n",
       "    .dataframe tbody tr th:only-of-type {\n",
       "        vertical-align: middle;\n",
       "    }\n",
       "\n",
       "    .dataframe tbody tr th {\n",
       "        vertical-align: top;\n",
       "    }\n",
       "\n",
       "    .dataframe thead th {\n",
       "        text-align: right;\n",
       "    }\n",
       "</style>\n",
       "<table border=\"1\" class=\"dataframe\">\n",
       "  <thead>\n",
       "    <tr style=\"text-align: right;\">\n",
       "      <th></th>\n",
       "      <th>price</th>\n",
       "      <th>year</th>\n",
       "      <th>manufacturer</th>\n",
       "      <th>model</th>\n",
       "      <th>condition</th>\n",
       "      <th>cylinders</th>\n",
       "      <th>fuel</th>\n",
       "      <th>odometer</th>\n",
       "      <th>title_status</th>\n",
       "      <th>transmission</th>\n",
       "      <th>drive</th>\n",
       "      <th>paint_color</th>\n",
       "      <th>state</th>\n",
       "    </tr>\n",
       "  </thead>\n",
       "  <tbody>\n",
       "    <tr>\n",
       "      <th>0</th>\n",
       "      <td>0</td>\n",
       "      <td>2018.0</td>\n",
       "      <td>ram</td>\n",
       "      <td>promaster 2500</td>\n",
       "      <td>excellent</td>\n",
       "      <td>NaN</td>\n",
       "      <td>gas</td>\n",
       "      <td>44244.0</td>\n",
       "      <td>clean</td>\n",
       "      <td>automatic</td>\n",
       "      <td>NaN</td>\n",
       "      <td>NaN</td>\n",
       "      <td>ca</td>\n",
       "    </tr>\n",
       "  </tbody>\n",
       "</table>\n",
       "</div>"
      ],
      "text/plain": [
       "   price    year manufacturer           model  condition cylinders fuel  \\\n",
       "0      0  2018.0          ram  promaster 2500  excellent       NaN  gas   \n",
       "\n",
       "   odometer title_status transmission drive paint_color state  \n",
       "0   44244.0        clean    automatic   NaN         NaN    ca  "
      ]
     },
     "execution_count": 196,
     "metadata": {},
     "output_type": "execute_result"
    }
   ],
   "source": [
    "df.isna().sum()\n",
    "df.head(1)"
   ]
  },
  {
   "cell_type": "code",
   "execution_count": 197,
   "id": "237e0bf8",
   "metadata": {},
   "outputs": [
    {
     "data": {
      "text/html": [
       "<div>\n",
       "<style scoped>\n",
       "    .dataframe tbody tr th:only-of-type {\n",
       "        vertical-align: middle;\n",
       "    }\n",
       "\n",
       "    .dataframe tbody tr th {\n",
       "        vertical-align: top;\n",
       "    }\n",
       "\n",
       "    .dataframe thead th {\n",
       "        text-align: right;\n",
       "    }\n",
       "</style>\n",
       "<table border=\"1\" class=\"dataframe\">\n",
       "  <thead>\n",
       "    <tr style=\"text-align: right;\">\n",
       "      <th></th>\n",
       "      <th>price</th>\n",
       "      <th>year</th>\n",
       "      <th>manufacturer</th>\n",
       "      <th>model</th>\n",
       "      <th>condition</th>\n",
       "      <th>cylinders</th>\n",
       "      <th>fuel</th>\n",
       "      <th>odometer</th>\n",
       "      <th>title_status</th>\n",
       "      <th>transmission</th>\n",
       "      <th>drive</th>\n",
       "      <th>paint_color</th>\n",
       "      <th>state</th>\n",
       "    </tr>\n",
       "  </thead>\n",
       "  <tbody>\n",
       "    <tr>\n",
       "      <th>5</th>\n",
       "      <td>0</td>\n",
       "      <td>2006.0</td>\n",
       "      <td>chrysler</td>\n",
       "      <td>300</td>\n",
       "      <td>like new</td>\n",
       "      <td>8 cylinders</td>\n",
       "      <td>gas</td>\n",
       "      <td>149000.0</td>\n",
       "      <td>clean</td>\n",
       "      <td>automatic</td>\n",
       "      <td>rwd</td>\n",
       "      <td>white</td>\n",
       "      <td>fl</td>\n",
       "    </tr>\n",
       "  </tbody>\n",
       "</table>\n",
       "</div>"
      ],
      "text/plain": [
       "   price    year manufacturer model condition    cylinders fuel  odometer  \\\n",
       "5      0  2006.0     chrysler   300  like new  8 cylinders  gas  149000.0   \n",
       "\n",
       "  title_status transmission drive paint_color state  \n",
       "5        clean    automatic   rwd       white    fl  "
      ]
     },
     "execution_count": 197,
     "metadata": {},
     "output_type": "execute_result"
    }
   ],
   "source": [
    "df = df.dropna()      #to frop all null values\n",
    "df.head(1)"
   ]
  },
  {
   "cell_type": "code",
   "execution_count": 198,
   "id": "4ebd5e91",
   "metadata": {},
   "outputs": [
    {
     "data": {
      "text/plain": [
       "(18828, 13)"
      ]
     },
     "execution_count": 198,
     "metadata": {},
     "output_type": "execute_result"
    }
   ],
   "source": [
    "df.shape"
   ]
  },
  {
   "cell_type": "code",
   "execution_count": 199,
   "id": "aa5fd570",
   "metadata": {},
   "outputs": [
    {
     "data": {
      "text/html": [
       "<div>\n",
       "<style scoped>\n",
       "    .dataframe tbody tr th:only-of-type {\n",
       "        vertical-align: middle;\n",
       "    }\n",
       "\n",
       "    .dataframe tbody tr th {\n",
       "        vertical-align: top;\n",
       "    }\n",
       "\n",
       "    .dataframe thead th {\n",
       "        text-align: right;\n",
       "    }\n",
       "</style>\n",
       "<table border=\"1\" class=\"dataframe\">\n",
       "  <thead>\n",
       "    <tr style=\"text-align: right;\">\n",
       "      <th></th>\n",
       "      <th>price</th>\n",
       "      <th>year</th>\n",
       "      <th>odometer</th>\n",
       "    </tr>\n",
       "  </thead>\n",
       "  <tbody>\n",
       "    <tr>\n",
       "      <th>count</th>\n",
       "      <td>1.882800e+04</td>\n",
       "      <td>18828.000000</td>\n",
       "      <td>1.882800e+04</td>\n",
       "    </tr>\n",
       "    <tr>\n",
       "      <th>mean</th>\n",
       "      <td>1.614425e+04</td>\n",
       "      <td>2009.338910</td>\n",
       "      <td>1.135402e+05</td>\n",
       "    </tr>\n",
       "    <tr>\n",
       "      <th>std</th>\n",
       "      <td>1.248295e+05</td>\n",
       "      <td>9.751838</td>\n",
       "      <td>2.126508e+05</td>\n",
       "    </tr>\n",
       "    <tr>\n",
       "      <th>min</th>\n",
       "      <td>0.000000e+00</td>\n",
       "      <td>1918.000000</td>\n",
       "      <td>0.000000e+00</td>\n",
       "    </tr>\n",
       "    <tr>\n",
       "      <th>25%</th>\n",
       "      <td>5.500000e+03</td>\n",
       "      <td>2006.000000</td>\n",
       "      <td>5.700000e+04</td>\n",
       "    </tr>\n",
       "    <tr>\n",
       "      <th>50%</th>\n",
       "      <td>1.079650e+04</td>\n",
       "      <td>2011.000000</td>\n",
       "      <td>1.040000e+05</td>\n",
       "    </tr>\n",
       "    <tr>\n",
       "      <th>75%</th>\n",
       "      <td>2.199500e+04</td>\n",
       "      <td>2015.000000</td>\n",
       "      <td>1.490550e+05</td>\n",
       "    </tr>\n",
       "    <tr>\n",
       "      <th>max</th>\n",
       "      <td>1.700000e+07</td>\n",
       "      <td>2022.000000</td>\n",
       "      <td>1.000000e+07</td>\n",
       "    </tr>\n",
       "  </tbody>\n",
       "</table>\n",
       "</div>"
      ],
      "text/plain": [
       "              price          year      odometer\n",
       "count  1.882800e+04  18828.000000  1.882800e+04\n",
       "mean   1.614425e+04   2009.338910  1.135402e+05\n",
       "std    1.248295e+05      9.751838  2.126508e+05\n",
       "min    0.000000e+00   1918.000000  0.000000e+00\n",
       "25%    5.500000e+03   2006.000000  5.700000e+04\n",
       "50%    1.079650e+04   2011.000000  1.040000e+05\n",
       "75%    2.199500e+04   2015.000000  1.490550e+05\n",
       "max    1.700000e+07   2022.000000  1.000000e+07"
      ]
     },
     "execution_count": 199,
     "metadata": {},
     "output_type": "execute_result"
    }
   ],
   "source": [
    "df.describe()"
   ]
  },
  {
   "cell_type": "markdown",
   "id": "356d9198",
   "metadata": {},
   "source": [
    "# lets check if we have any duplicates and remove if we have\n",
    "#if there were duplicates the model will learn that particular pattern\n"
   ]
  },
  {
   "cell_type": "code",
   "execution_count": 200,
   "id": "c11e2e69",
   "metadata": {},
   "outputs": [
    {
     "data": {
      "text/plain": [
       "(17649, 13)"
      ]
     },
     "execution_count": 200,
     "metadata": {},
     "output_type": "execute_result"
    }
   ],
   "source": [
    "df.drop_duplicates(inplace = True)\n",
    "\n",
    "df.shape"
   ]
  },
  {
   "cell_type": "markdown",
   "id": "c7d55abc",
   "metadata": {},
   "source": [
    "# filter categorical features\n"
   ]
  },
  {
   "cell_type": "code",
   "execution_count": 201,
   "id": "ca377fe0",
   "metadata": {},
   "outputs": [],
   "source": [
    "numerics = ['int8','int16','int32','int64','float16','float32','float64']\n",
    "categorical_col = []\n"
   ]
  },
  {
   "cell_type": "code",
   "execution_count": 202,
   "id": "aeb9258d",
   "metadata": {},
   "outputs": [
    {
     "data": {
      "text/plain": [
       "array(['price', 'year', 'manufacturer', 'model', 'condition', 'cylinders',\n",
       "       'fuel', 'odometer', 'title_status', 'transmission', 'drive',\n",
       "       'paint_color', 'state'], dtype=object)"
      ]
     },
     "execution_count": 202,
     "metadata": {},
     "output_type": "execute_result"
    }
   ],
   "source": [
    "features = df.columns.values\n",
    "features"
   ]
  },
  {
   "cell_type": "code",
   "execution_count": 203,
   "id": "ee379be1",
   "metadata": {},
   "outputs": [
    {
     "data": {
      "text/plain": [
       "['price',\n",
       " 'year',\n",
       " 'manufacturer',\n",
       " 'model',\n",
       " 'condition',\n",
       " 'cylinders',\n",
       " 'fuel',\n",
       " 'odometer',\n",
       " 'title_status',\n",
       " 'transmission',\n",
       " 'drive',\n",
       " 'paint_color',\n",
       " 'state']"
      ]
     },
     "execution_count": 203,
     "metadata": {},
     "output_type": "execute_result"
    }
   ],
   "source": [
    "features = df.columns.values.tolist()\n",
    "features"
   ]
  },
  {
   "cell_type": "code",
   "execution_count": 204,
   "id": "1d8d1983",
   "metadata": {},
   "outputs": [],
   "source": [
    "for col in features:\n",
    "    if df[col].dtype in numerics:\n",
    "        continue\n",
    "    categorical_col.append(col)\n",
    "#to skip when we have numerical data and add to empty list"
   ]
  },
  {
   "cell_type": "code",
   "execution_count": 205,
   "id": "17af64ab",
   "metadata": {},
   "outputs": [
    {
     "data": {
      "text/plain": [
       "['manufacturer',\n",
       " 'model',\n",
       " 'condition',\n",
       " 'cylinders',\n",
       " 'fuel',\n",
       " 'title_status',\n",
       " 'transmission',\n",
       " 'drive',\n",
       " 'paint_color',\n",
       " 'state']"
      ]
     },
     "execution_count": 205,
     "metadata": {},
     "output_type": "execute_result"
    }
   ],
   "source": [
    "#1hr 34========================\n",
    "\n",
    "categorical_col"
   ]
  },
  {
   "cell_type": "code",
   "execution_count": 206,
   "id": "130b5e92",
   "metadata": {},
   "outputs": [],
   "source": [
    "#Encoding Categorical columns using get dummies(also we can use ohe as well)(label might make it biased )"
   ]
  },
  {
   "cell_type": "code",
   "execution_count": 207,
   "id": "3cee140a",
   "metadata": {},
   "outputs": [],
   "source": [
    "df_dummies = pd.get_dummies(df[categorical_col],drop_first = True)"
   ]
  },
  {
   "cell_type": "code",
   "execution_count": 208,
   "id": "4eb44d28",
   "metadata": {},
   "outputs": [
    {
     "data": {
      "text/html": [
       "<div>\n",
       "<style scoped>\n",
       "    .dataframe tbody tr th:only-of-type {\n",
       "        vertical-align: middle;\n",
       "    }\n",
       "\n",
       "    .dataframe tbody tr th {\n",
       "        vertical-align: top;\n",
       "    }\n",
       "\n",
       "    .dataframe thead th {\n",
       "        text-align: right;\n",
       "    }\n",
       "</style>\n",
       "<table border=\"1\" class=\"dataframe\">\n",
       "  <thead>\n",
       "    <tr style=\"text-align: right;\">\n",
       "      <th></th>\n",
       "      <th>manufacturer_alfa-romeo</th>\n",
       "      <th>manufacturer_audi</th>\n",
       "      <th>manufacturer_bmw</th>\n",
       "      <th>manufacturer_buick</th>\n",
       "      <th>manufacturer_cadillac</th>\n",
       "      <th>manufacturer_chevrolet</th>\n",
       "      <th>manufacturer_chrysler</th>\n",
       "      <th>manufacturer_datsun</th>\n",
       "      <th>manufacturer_dodge</th>\n",
       "      <th>manufacturer_ferrari</th>\n",
       "      <th>...</th>\n",
       "      <th>state_sd</th>\n",
       "      <th>state_tn</th>\n",
       "      <th>state_tx</th>\n",
       "      <th>state_ut</th>\n",
       "      <th>state_va</th>\n",
       "      <th>state_vt</th>\n",
       "      <th>state_wa</th>\n",
       "      <th>state_wi</th>\n",
       "      <th>state_wv</th>\n",
       "      <th>state_wy</th>\n",
       "    </tr>\n",
       "  </thead>\n",
       "  <tbody>\n",
       "    <tr>\n",
       "      <th>5</th>\n",
       "      <td>0</td>\n",
       "      <td>0</td>\n",
       "      <td>0</td>\n",
       "      <td>0</td>\n",
       "      <td>0</td>\n",
       "      <td>0</td>\n",
       "      <td>1</td>\n",
       "      <td>0</td>\n",
       "      <td>0</td>\n",
       "      <td>0</td>\n",
       "      <td>...</td>\n",
       "      <td>0</td>\n",
       "      <td>0</td>\n",
       "      <td>0</td>\n",
       "      <td>0</td>\n",
       "      <td>0</td>\n",
       "      <td>0</td>\n",
       "      <td>0</td>\n",
       "      <td>0</td>\n",
       "      <td>0</td>\n",
       "      <td>0</td>\n",
       "    </tr>\n",
       "    <tr>\n",
       "      <th>9</th>\n",
       "      <td>0</td>\n",
       "      <td>0</td>\n",
       "      <td>0</td>\n",
       "      <td>0</td>\n",
       "      <td>0</td>\n",
       "      <td>1</td>\n",
       "      <td>0</td>\n",
       "      <td>0</td>\n",
       "      <td>0</td>\n",
       "      <td>0</td>\n",
       "      <td>...</td>\n",
       "      <td>0</td>\n",
       "      <td>0</td>\n",
       "      <td>0</td>\n",
       "      <td>0</td>\n",
       "      <td>0</td>\n",
       "      <td>0</td>\n",
       "      <td>0</td>\n",
       "      <td>1</td>\n",
       "      <td>0</td>\n",
       "      <td>0</td>\n",
       "    </tr>\n",
       "    <tr>\n",
       "      <th>15</th>\n",
       "      <td>0</td>\n",
       "      <td>0</td>\n",
       "      <td>0</td>\n",
       "      <td>0</td>\n",
       "      <td>0</td>\n",
       "      <td>0</td>\n",
       "      <td>0</td>\n",
       "      <td>0</td>\n",
       "      <td>0</td>\n",
       "      <td>0</td>\n",
       "      <td>...</td>\n",
       "      <td>0</td>\n",
       "      <td>0</td>\n",
       "      <td>0</td>\n",
       "      <td>0</td>\n",
       "      <td>0</td>\n",
       "      <td>0</td>\n",
       "      <td>0</td>\n",
       "      <td>0</td>\n",
       "      <td>0</td>\n",
       "      <td>0</td>\n",
       "    </tr>\n",
       "    <tr>\n",
       "      <th>22</th>\n",
       "      <td>0</td>\n",
       "      <td>0</td>\n",
       "      <td>0</td>\n",
       "      <td>0</td>\n",
       "      <td>0</td>\n",
       "      <td>1</td>\n",
       "      <td>0</td>\n",
       "      <td>0</td>\n",
       "      <td>0</td>\n",
       "      <td>0</td>\n",
       "      <td>...</td>\n",
       "      <td>0</td>\n",
       "      <td>0</td>\n",
       "      <td>0</td>\n",
       "      <td>0</td>\n",
       "      <td>0</td>\n",
       "      <td>0</td>\n",
       "      <td>0</td>\n",
       "      <td>0</td>\n",
       "      <td>0</td>\n",
       "      <td>0</td>\n",
       "    </tr>\n",
       "    <tr>\n",
       "      <th>29</th>\n",
       "      <td>0</td>\n",
       "      <td>0</td>\n",
       "      <td>0</td>\n",
       "      <td>0</td>\n",
       "      <td>0</td>\n",
       "      <td>0</td>\n",
       "      <td>0</td>\n",
       "      <td>0</td>\n",
       "      <td>0</td>\n",
       "      <td>0</td>\n",
       "      <td>...</td>\n",
       "      <td>0</td>\n",
       "      <td>0</td>\n",
       "      <td>0</td>\n",
       "      <td>0</td>\n",
       "      <td>0</td>\n",
       "      <td>0</td>\n",
       "      <td>0</td>\n",
       "      <td>0</td>\n",
       "      <td>0</td>\n",
       "      <td>0</td>\n",
       "    </tr>\n",
       "  </tbody>\n",
       "</table>\n",
       "<p>5 rows × 4479 columns</p>\n",
       "</div>"
      ],
      "text/plain": [
       "    manufacturer_alfa-romeo  manufacturer_audi  manufacturer_bmw  \\\n",
       "5                         0                  0                 0   \n",
       "9                         0                  0                 0   \n",
       "15                        0                  0                 0   \n",
       "22                        0                  0                 0   \n",
       "29                        0                  0                 0   \n",
       "\n",
       "    manufacturer_buick  manufacturer_cadillac  manufacturer_chevrolet  \\\n",
       "5                    0                      0                       0   \n",
       "9                    0                      0                       1   \n",
       "15                   0                      0                       0   \n",
       "22                   0                      0                       1   \n",
       "29                   0                      0                       0   \n",
       "\n",
       "    manufacturer_chrysler  manufacturer_datsun  manufacturer_dodge  \\\n",
       "5                       1                    0                   0   \n",
       "9                       0                    0                   0   \n",
       "15                      0                    0                   0   \n",
       "22                      0                    0                   0   \n",
       "29                      0                    0                   0   \n",
       "\n",
       "    manufacturer_ferrari  ...  state_sd  state_tn  state_tx  state_ut  \\\n",
       "5                      0  ...         0         0         0         0   \n",
       "9                      0  ...         0         0         0         0   \n",
       "15                     0  ...         0         0         0         0   \n",
       "22                     0  ...         0         0         0         0   \n",
       "29                     0  ...         0         0         0         0   \n",
       "\n",
       "    state_va  state_vt  state_wa  state_wi  state_wv  state_wy  \n",
       "5          0         0         0         0         0         0  \n",
       "9          0         0         0         1         0         0  \n",
       "15         0         0         0         0         0         0  \n",
       "22         0         0         0         0         0         0  \n",
       "29         0         0         0         0         0         0  \n",
       "\n",
       "[5 rows x 4479 columns]"
      ]
     },
     "execution_count": 208,
     "metadata": {},
     "output_type": "execute_result"
    }
   ],
   "source": [
    "df_dummies.head()\n"
   ]
  },
  {
   "cell_type": "code",
   "execution_count": 209,
   "id": "4ba52be6",
   "metadata": {},
   "outputs": [],
   "source": [
    "df = df.join(df_dummies)\n",
    "#joining the encoded data with our data set"
   ]
  },
  {
   "cell_type": "code",
   "execution_count": 210,
   "id": "91d4100d",
   "metadata": {},
   "outputs": [
    {
     "data": {
      "text/plain": [
       "(17649, 4492)"
      ]
     },
     "execution_count": 210,
     "metadata": {},
     "output_type": "execute_result"
    }
   ],
   "source": [
    "df.shape"
   ]
  },
  {
   "cell_type": "code",
   "execution_count": 211,
   "id": "957e64aa",
   "metadata": {},
   "outputs": [
    {
     "data": {
      "text/html": [
       "<div>\n",
       "<style scoped>\n",
       "    .dataframe tbody tr th:only-of-type {\n",
       "        vertical-align: middle;\n",
       "    }\n",
       "\n",
       "    .dataframe tbody tr th {\n",
       "        vertical-align: top;\n",
       "    }\n",
       "\n",
       "    .dataframe thead th {\n",
       "        text-align: right;\n",
       "    }\n",
       "</style>\n",
       "<table border=\"1\" class=\"dataframe\">\n",
       "  <thead>\n",
       "    <tr style=\"text-align: right;\">\n",
       "      <th></th>\n",
       "      <th>price</th>\n",
       "      <th>year</th>\n",
       "      <th>manufacturer</th>\n",
       "      <th>model</th>\n",
       "      <th>condition</th>\n",
       "      <th>cylinders</th>\n",
       "      <th>fuel</th>\n",
       "      <th>odometer</th>\n",
       "      <th>title_status</th>\n",
       "      <th>transmission</th>\n",
       "      <th>...</th>\n",
       "      <th>state_sd</th>\n",
       "      <th>state_tn</th>\n",
       "      <th>state_tx</th>\n",
       "      <th>state_ut</th>\n",
       "      <th>state_va</th>\n",
       "      <th>state_vt</th>\n",
       "      <th>state_wa</th>\n",
       "      <th>state_wi</th>\n",
       "      <th>state_wv</th>\n",
       "      <th>state_wy</th>\n",
       "    </tr>\n",
       "  </thead>\n",
       "  <tbody>\n",
       "    <tr>\n",
       "      <th>5</th>\n",
       "      <td>0</td>\n",
       "      <td>2006.0</td>\n",
       "      <td>chrysler</td>\n",
       "      <td>300</td>\n",
       "      <td>like new</td>\n",
       "      <td>8 cylinders</td>\n",
       "      <td>gas</td>\n",
       "      <td>149000.0</td>\n",
       "      <td>clean</td>\n",
       "      <td>automatic</td>\n",
       "      <td>...</td>\n",
       "      <td>0</td>\n",
       "      <td>0</td>\n",
       "      <td>0</td>\n",
       "      <td>0</td>\n",
       "      <td>0</td>\n",
       "      <td>0</td>\n",
       "      <td>0</td>\n",
       "      <td>0</td>\n",
       "      <td>0</td>\n",
       "      <td>0</td>\n",
       "    </tr>\n",
       "    <tr>\n",
       "      <th>9</th>\n",
       "      <td>20995</td>\n",
       "      <td>2011.0</td>\n",
       "      <td>chevrolet</td>\n",
       "      <td>silverado 1500</td>\n",
       "      <td>excellent</td>\n",
       "      <td>8 cylinders</td>\n",
       "      <td>gas</td>\n",
       "      <td>92001.0</td>\n",
       "      <td>clean</td>\n",
       "      <td>automatic</td>\n",
       "      <td>...</td>\n",
       "      <td>0</td>\n",
       "      <td>0</td>\n",
       "      <td>0</td>\n",
       "      <td>0</td>\n",
       "      <td>0</td>\n",
       "      <td>0</td>\n",
       "      <td>0</td>\n",
       "      <td>1</td>\n",
       "      <td>0</td>\n",
       "      <td>0</td>\n",
       "    </tr>\n",
       "    <tr>\n",
       "      <th>15</th>\n",
       "      <td>50995</td>\n",
       "      <td>2017.0</td>\n",
       "      <td>gmc</td>\n",
       "      <td>yukon denali</td>\n",
       "      <td>like new</td>\n",
       "      <td>8 cylinders</td>\n",
       "      <td>gas</td>\n",
       "      <td>70227.0</td>\n",
       "      <td>clean</td>\n",
       "      <td>automatic</td>\n",
       "      <td>...</td>\n",
       "      <td>0</td>\n",
       "      <td>0</td>\n",
       "      <td>0</td>\n",
       "      <td>0</td>\n",
       "      <td>0</td>\n",
       "      <td>0</td>\n",
       "      <td>0</td>\n",
       "      <td>0</td>\n",
       "      <td>0</td>\n",
       "      <td>0</td>\n",
       "    </tr>\n",
       "    <tr>\n",
       "      <th>22</th>\n",
       "      <td>13500</td>\n",
       "      <td>2014.0</td>\n",
       "      <td>chevrolet</td>\n",
       "      <td>tahoe</td>\n",
       "      <td>good</td>\n",
       "      <td>8 cylinders</td>\n",
       "      <td>gas</td>\n",
       "      <td>96007.0</td>\n",
       "      <td>clean</td>\n",
       "      <td>automatic</td>\n",
       "      <td>...</td>\n",
       "      <td>0</td>\n",
       "      <td>0</td>\n",
       "      <td>0</td>\n",
       "      <td>0</td>\n",
       "      <td>0</td>\n",
       "      <td>0</td>\n",
       "      <td>0</td>\n",
       "      <td>0</td>\n",
       "      <td>0</td>\n",
       "      <td>0</td>\n",
       "    </tr>\n",
       "    <tr>\n",
       "      <th>29</th>\n",
       "      <td>34990</td>\n",
       "      <td>2016.0</td>\n",
       "      <td>gmc</td>\n",
       "      <td>canyon crew cab sle pickup</td>\n",
       "      <td>good</td>\n",
       "      <td>6 cylinders</td>\n",
       "      <td>gas</td>\n",
       "      <td>34425.0</td>\n",
       "      <td>clean</td>\n",
       "      <td>other</td>\n",
       "      <td>...</td>\n",
       "      <td>0</td>\n",
       "      <td>0</td>\n",
       "      <td>0</td>\n",
       "      <td>0</td>\n",
       "      <td>0</td>\n",
       "      <td>0</td>\n",
       "      <td>0</td>\n",
       "      <td>0</td>\n",
       "      <td>0</td>\n",
       "      <td>0</td>\n",
       "    </tr>\n",
       "  </tbody>\n",
       "</table>\n",
       "<p>5 rows × 4492 columns</p>\n",
       "</div>"
      ],
      "text/plain": [
       "    price    year manufacturer                       model  condition  \\\n",
       "5       0  2006.0     chrysler                         300   like new   \n",
       "9   20995  2011.0    chevrolet              silverado 1500  excellent   \n",
       "15  50995  2017.0          gmc                yukon denali   like new   \n",
       "22  13500  2014.0    chevrolet                       tahoe       good   \n",
       "29  34990  2016.0          gmc  canyon crew cab sle pickup       good   \n",
       "\n",
       "      cylinders fuel  odometer title_status transmission  ... state_sd  \\\n",
       "5   8 cylinders  gas  149000.0        clean    automatic  ...        0   \n",
       "9   8 cylinders  gas   92001.0        clean    automatic  ...        0   \n",
       "15  8 cylinders  gas   70227.0        clean    automatic  ...        0   \n",
       "22  8 cylinders  gas   96007.0        clean    automatic  ...        0   \n",
       "29  6 cylinders  gas   34425.0        clean        other  ...        0   \n",
       "\n",
       "   state_tn state_tx  state_ut  state_va  state_vt  state_wa  state_wi  \\\n",
       "5         0        0         0         0         0         0         0   \n",
       "9         0        0         0         0         0         0         1   \n",
       "15        0        0         0         0         0         0         0   \n",
       "22        0        0         0         0         0         0         0   \n",
       "29        0        0         0         0         0         0         0   \n",
       "\n",
       "    state_wv  state_wy  \n",
       "5          0         0  \n",
       "9          0         0  \n",
       "15         0         0  \n",
       "22         0         0  \n",
       "29         0         0  \n",
       "\n",
       "[5 rows x 4492 columns]"
      ]
     },
     "execution_count": 211,
     "metadata": {},
     "output_type": "execute_result"
    }
   ],
   "source": [
    "df.head()"
   ]
  },
  {
   "cell_type": "code",
   "execution_count": 212,
   "id": "4d91cd55",
   "metadata": {},
   "outputs": [],
   "source": [
    "#1 hr 40\n",
    "df.drop(columns=categorical_col,axis=1,inplace=True)\n"
   ]
  },
  {
   "cell_type": "code",
   "execution_count": 213,
   "id": "9b4ace1c",
   "metadata": {},
   "outputs": [
    {
     "data": {
      "text/html": [
       "<div>\n",
       "<style scoped>\n",
       "    .dataframe tbody tr th:only-of-type {\n",
       "        vertical-align: middle;\n",
       "    }\n",
       "\n",
       "    .dataframe tbody tr th {\n",
       "        vertical-align: top;\n",
       "    }\n",
       "\n",
       "    .dataframe thead th {\n",
       "        text-align: right;\n",
       "    }\n",
       "</style>\n",
       "<table border=\"1\" class=\"dataframe\">\n",
       "  <thead>\n",
       "    <tr style=\"text-align: right;\">\n",
       "      <th></th>\n",
       "      <th>price</th>\n",
       "      <th>year</th>\n",
       "      <th>odometer</th>\n",
       "      <th>manufacturer_alfa-romeo</th>\n",
       "      <th>manufacturer_audi</th>\n",
       "      <th>manufacturer_bmw</th>\n",
       "      <th>manufacturer_buick</th>\n",
       "      <th>manufacturer_cadillac</th>\n",
       "      <th>manufacturer_chevrolet</th>\n",
       "      <th>manufacturer_chrysler</th>\n",
       "      <th>...</th>\n",
       "      <th>state_sd</th>\n",
       "      <th>state_tn</th>\n",
       "      <th>state_tx</th>\n",
       "      <th>state_ut</th>\n",
       "      <th>state_va</th>\n",
       "      <th>state_vt</th>\n",
       "      <th>state_wa</th>\n",
       "      <th>state_wi</th>\n",
       "      <th>state_wv</th>\n",
       "      <th>state_wy</th>\n",
       "    </tr>\n",
       "  </thead>\n",
       "  <tbody>\n",
       "    <tr>\n",
       "      <th>5</th>\n",
       "      <td>0</td>\n",
       "      <td>2006.0</td>\n",
       "      <td>149000.0</td>\n",
       "      <td>0</td>\n",
       "      <td>0</td>\n",
       "      <td>0</td>\n",
       "      <td>0</td>\n",
       "      <td>0</td>\n",
       "      <td>0</td>\n",
       "      <td>1</td>\n",
       "      <td>...</td>\n",
       "      <td>0</td>\n",
       "      <td>0</td>\n",
       "      <td>0</td>\n",
       "      <td>0</td>\n",
       "      <td>0</td>\n",
       "      <td>0</td>\n",
       "      <td>0</td>\n",
       "      <td>0</td>\n",
       "      <td>0</td>\n",
       "      <td>0</td>\n",
       "    </tr>\n",
       "    <tr>\n",
       "      <th>9</th>\n",
       "      <td>20995</td>\n",
       "      <td>2011.0</td>\n",
       "      <td>92001.0</td>\n",
       "      <td>0</td>\n",
       "      <td>0</td>\n",
       "      <td>0</td>\n",
       "      <td>0</td>\n",
       "      <td>0</td>\n",
       "      <td>1</td>\n",
       "      <td>0</td>\n",
       "      <td>...</td>\n",
       "      <td>0</td>\n",
       "      <td>0</td>\n",
       "      <td>0</td>\n",
       "      <td>0</td>\n",
       "      <td>0</td>\n",
       "      <td>0</td>\n",
       "      <td>0</td>\n",
       "      <td>1</td>\n",
       "      <td>0</td>\n",
       "      <td>0</td>\n",
       "    </tr>\n",
       "  </tbody>\n",
       "</table>\n",
       "<p>2 rows × 4482 columns</p>\n",
       "</div>"
      ],
      "text/plain": [
       "   price    year  odometer  manufacturer_alfa-romeo  manufacturer_audi  \\\n",
       "5      0  2006.0  149000.0                        0                  0   \n",
       "9  20995  2011.0   92001.0                        0                  0   \n",
       "\n",
       "   manufacturer_bmw  manufacturer_buick  manufacturer_cadillac  \\\n",
       "5                 0                   0                      0   \n",
       "9                 0                   0                      0   \n",
       "\n",
       "   manufacturer_chevrolet  manufacturer_chrysler  ...  state_sd  state_tn  \\\n",
       "5                       0                      1  ...         0         0   \n",
       "9                       1                      0  ...         0         0   \n",
       "\n",
       "   state_tx  state_ut  state_va  state_vt  state_wa  state_wi  state_wv  \\\n",
       "5         0         0         0         0         0         0         0   \n",
       "9         0         0         0         0         0         1         0   \n",
       "\n",
       "   state_wy  \n",
       "5         0  \n",
       "9         0  \n",
       "\n",
       "[2 rows x 4482 columns]"
      ]
     },
     "execution_count": 213,
     "metadata": {},
     "output_type": "execute_result"
    }
   ],
   "source": [
    "df.head(2)\n",
    "#try other encoding techniques as well compare the accuracy\n"
   ]
  },
  {
   "cell_type": "markdown",
   "id": "bb8ad41b",
   "metadata": {},
   "source": [
    "# selecting realistic data >here domain knowledge will help"
   ]
  },
  {
   "cell_type": "code",
   "execution_count": 214,
   "id": "4770b47e",
   "metadata": {},
   "outputs": [],
   "source": [
    "df = df[df['price']>1000]\n",
    "\n",
    "df = df[df['price']<40000]"
   ]
  },
  {
   "cell_type": "code",
   "execution_count": 215,
   "id": "d9e59864",
   "metadata": {},
   "outputs": [
    {
     "data": {
      "text/html": [
       "<div>\n",
       "<style scoped>\n",
       "    .dataframe tbody tr th:only-of-type {\n",
       "        vertical-align: middle;\n",
       "    }\n",
       "\n",
       "    .dataframe tbody tr th {\n",
       "        vertical-align: top;\n",
       "    }\n",
       "\n",
       "    .dataframe thead th {\n",
       "        text-align: right;\n",
       "    }\n",
       "</style>\n",
       "<table border=\"1\" class=\"dataframe\">\n",
       "  <thead>\n",
       "    <tr style=\"text-align: right;\">\n",
       "      <th></th>\n",
       "      <th>price</th>\n",
       "      <th>year</th>\n",
       "      <th>odometer</th>\n",
       "      <th>manufacturer_alfa-romeo</th>\n",
       "      <th>manufacturer_audi</th>\n",
       "      <th>manufacturer_bmw</th>\n",
       "      <th>manufacturer_buick</th>\n",
       "      <th>manufacturer_cadillac</th>\n",
       "      <th>manufacturer_chevrolet</th>\n",
       "      <th>manufacturer_chrysler</th>\n",
       "      <th>...</th>\n",
       "      <th>state_sd</th>\n",
       "      <th>state_tn</th>\n",
       "      <th>state_tx</th>\n",
       "      <th>state_ut</th>\n",
       "      <th>state_va</th>\n",
       "      <th>state_vt</th>\n",
       "      <th>state_wa</th>\n",
       "      <th>state_wi</th>\n",
       "      <th>state_wv</th>\n",
       "      <th>state_wy</th>\n",
       "    </tr>\n",
       "  </thead>\n",
       "  <tbody>\n",
       "    <tr>\n",
       "      <th>9</th>\n",
       "      <td>20995</td>\n",
       "      <td>2011.0</td>\n",
       "      <td>92001.0</td>\n",
       "      <td>0</td>\n",
       "      <td>0</td>\n",
       "      <td>0</td>\n",
       "      <td>0</td>\n",
       "      <td>0</td>\n",
       "      <td>1</td>\n",
       "      <td>0</td>\n",
       "      <td>...</td>\n",
       "      <td>0</td>\n",
       "      <td>0</td>\n",
       "      <td>0</td>\n",
       "      <td>0</td>\n",
       "      <td>0</td>\n",
       "      <td>0</td>\n",
       "      <td>0</td>\n",
       "      <td>1</td>\n",
       "      <td>0</td>\n",
       "      <td>0</td>\n",
       "    </tr>\n",
       "  </tbody>\n",
       "</table>\n",
       "<p>1 rows × 4482 columns</p>\n",
       "</div>"
      ],
      "text/plain": [
       "   price    year  odometer  manufacturer_alfa-romeo  manufacturer_audi  \\\n",
       "9  20995  2011.0   92001.0                        0                  0   \n",
       "\n",
       "   manufacturer_bmw  manufacturer_buick  manufacturer_cadillac  \\\n",
       "9                 0                   0                      0   \n",
       "\n",
       "   manufacturer_chevrolet  manufacturer_chrysler  ...  state_sd  state_tn  \\\n",
       "9                       1                      0  ...         0         0   \n",
       "\n",
       "   state_tx  state_ut  state_va  state_vt  state_wa  state_wi  state_wv  \\\n",
       "9         0         0         0         0         0         1         0   \n",
       "\n",
       "   state_wy  \n",
       "9         0  \n",
       "\n",
       "[1 rows x 4482 columns]"
      ]
     },
     "execution_count": 215,
     "metadata": {},
     "output_type": "execute_result"
    }
   ],
   "source": [
    "df.head(1)\n"
   ]
  },
  {
   "cell_type": "code",
   "execution_count": 216,
   "id": "f5fbf36f",
   "metadata": {},
   "outputs": [],
   "source": [
    "#Divide the datasets into"
   ]
  },
  {
   "cell_type": "code",
   "execution_count": 217,
   "id": "6c226708",
   "metadata": {},
   "outputs": [],
   "source": [
    "y = df['price']\n",
    "\n",
    "X= df.drop(['price'],axis =1)"
   ]
  },
  {
   "cell_type": "code",
   "execution_count": 218,
   "id": "2b35eb98",
   "metadata": {},
   "outputs": [],
   "source": [
    "#check 1hr 47 if u have error\n",
    "x_train,x_test,y_train,y_test = train_test_split( X,y,test_size=0.25,random_state=10)\n"
   ]
  },
  {
   "cell_type": "code",
   "execution_count": 219,
   "id": "ce78c864",
   "metadata": {},
   "outputs": [],
   "source": [
    "xgb = xgb.XGBRegressor()\n",
    "#or we can import the XGBRegressor directlt by using from xgboost import XGBRegressor as well\n"
   ]
  },
  {
   "cell_type": "code",
   "execution_count": 220,
   "id": "a14f0f22",
   "metadata": {},
   "outputs": [
    {
     "data": {
      "text/plain": [
       "XGBRegressor(base_score=None, booster=None, callbacks=None,\n",
       "             colsample_bylevel=None, colsample_bynode=None,\n",
       "             colsample_bytree=None, early_stopping_rounds=None,\n",
       "             enable_categorical=False, eval_metric=None, gamma=None,\n",
       "             gpu_id=None, grow_policy=None, importance_type=None,\n",
       "             interaction_constraints=None, learning_rate=None, max_bin=None,\n",
       "             max_cat_to_onehot=None, max_delta_step=None, max_depth=None,\n",
       "             max_leaves=None, min_child_weight=None, missing=nan,\n",
       "             monotone_constraints=None, n_estimators=100, n_jobs=None,\n",
       "             num_parallel_tree=None, predictor=None, random_state=None,\n",
       "             reg_alpha=None, reg_lambda=None, ...)"
      ]
     },
     "execution_count": 220,
     "metadata": {},
     "output_type": "execute_result"
    }
   ],
   "source": [
    "xgb"
   ]
  },
  {
   "cell_type": "code",
   "execution_count": 221,
   "id": "c68c5ae5",
   "metadata": {},
   "outputs": [
    {
     "data": {
      "text/plain": [
       "0.8527367159408741"
      ]
     },
     "execution_count": 221,
     "metadata": {},
     "output_type": "execute_result"
    }
   ],
   "source": [
    "xgb.fit(x_train,y_train)\n",
    "\n",
    "y_pred = xgb.predict(x_test)\n",
    "r2_score(y_test,y_pred)\n"
   ]
  },
  {
   "cell_type": "code",
   "execution_count": 222,
   "id": "1cdec068",
   "metadata": {},
   "outputs": [],
   "source": [
    "#tune the parameter and check if we can inc score(use either grid search or randomized search )\n",
    "\n",
    "#make note of comparison b/w baggging and boosting"
   ]
  },
  {
   "cell_type": "code",
   "execution_count": null,
   "id": "772e3593",
   "metadata": {},
   "outputs": [],
   "source": [
    "##how to deal with imbalanced data sets\n"
   ]
  }
 ],
 "metadata": {
  "kernelspec": {
   "display_name": "Python 3 (ipykernel)",
   "language": "python",
   "name": "python3"
  },
  "language_info": {
   "codemirror_mode": {
    "name": "ipython",
    "version": 3
   },
   "file_extension": ".py",
   "mimetype": "text/x-python",
   "name": "python",
   "nbconvert_exporter": "python",
   "pygments_lexer": "ipython3",
   "version": "3.9.12"
  }
 },
 "nbformat": 4,
 "nbformat_minor": 5
}
